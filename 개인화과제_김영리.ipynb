{
  "nbformat": 4,
  "nbformat_minor": 0,
  "metadata": {
    "colab": {
      "provenance": [],
      "authorship_tag": "ABX9TyNdMrcQc02lOrN/Rug9S1dI",
      "include_colab_link": true
    },
    "kernelspec": {
      "name": "python3",
      "display_name": "Python 3"
    },
    "language_info": {
      "name": "python"
    }
  },
  "cells": [
    {
      "cell_type": "markdown",
      "metadata": {
        "id": "view-in-github",
        "colab_type": "text"
      },
      "source": [
        "<a href=\"https://colab.research.google.com/github/yleessam/recommend/blob/main/%EA%B0%9C%EC%9D%B8%ED%99%94%EA%B3%BC%EC%A0%9C_%EA%B9%80%EC%98%81%EB%A6%AC.ipynb\" target=\"_parent\"><img src=\"https://colab.research.google.com/assets/colab-badge.svg\" alt=\"Open In Colab\"/></a>"
      ]
    },
    {
      "cell_type": "markdown",
      "source": [
        "# 1. 최근접 이웃 기반 추천 시스템(CF)"
      ],
      "metadata": {
        "id": "MmHKZs2UMy52"
      }
    },
    {
      "cell_type": "markdown",
      "source": [
        "##1. 사용자 기반 협업 필터링"
      ],
      "metadata": {
        "id": "6s-IjQiEM5Ii"
      }
    },
    {
      "cell_type": "markdown",
      "source": [
        "##2. 아이템 기반 협업 필터링\n"
      ],
      "metadata": {
        "id": "NENVeXJJNKCr"
      }
    },
    {
      "cell_type": "markdown",
      "source": [
        "##3. 유클리디안 거리(Euclidean Distance)"
      ],
      "metadata": {
        "id": "HrJ37yuCNT9H"
      }
    },
    {
      "cell_type": "markdown",
      "source": [
        "###실습1 - scipy 모듈 사용 시"
      ],
      "metadata": {
        "id": "UXhD0GldNlXY"
      }
    },
    {
      "cell_type": "code",
      "source": [
        "from scipy.spatial import distance\n",
        "D1 = (3,2,0,2)\n",
        "D2 = (1,2,3,0)\n",
        "D3 = (2,2,2,2)\n",
        "Q = (1,5,0,0)\n",
        "dist_D1_Q = distance.euclidean(D1,Q)\n",
        "dist_D2_Q = distance.euclidean(D2,Q)\n",
        "dist_D3_Q = distance.euclidean(D3,Q)\n",
        "print(\"D1-Q : \" + str(dist_D1_Q))\n",
        "print(\"D2-Q : \" + str(dist_D2_Q))\n",
        "print(\"D3-Q : \" + str(dist_D3_Q))"
      ],
      "metadata": {
        "id": "HIbvEjs6NdBW"
      },
      "execution_count": null,
      "outputs": []
    },
    {
      "cell_type": "markdown",
      "source": [
        "###실습2 - numpy 모듈 사용 시\n"
      ],
      "metadata": {
        "id": "2-tHro-BNiN7"
      }
    },
    {
      "cell_type": "code",
      "source": [
        "import numpy as np\n",
        "def dist(x, y):\n",
        " return np.sqrt(np.sum((x-y)**2))\n",
        "D1 = np.array((3,2,0,2))\n",
        "D2 = np.array((1,2,3,0))\n",
        "D3 = np.array((2,2,2,2))\n",
        "Q = np.array((1,5,0,0))\n",
        "dist_D1_Q = dist(D1,Q)\n",
        "dist_D2_Q = dist(D2,Q)\n",
        "dist_D3_Q = dist(D3,Q)\n",
        "print(\"D1-Q : \" + str(dist_D1_Q))\n",
        "print(\"D2-Q : \" + str(dist_D2_Q))\n",
        "print(\"D3-Q : \" + str(dist_D3_Q))"
      ],
      "metadata": {
        "id": "R2SVnBlpNf2M"
      },
      "execution_count": null,
      "outputs": []
    },
    {
      "cell_type": "markdown",
      "source": [
        "###실습1과 실습2의 코드를유사도가클 수록 1에 가까운값이나오도록수정하시오."
      ],
      "metadata": {
        "id": "aYqoCRJaNYqh"
      }
    },
    {
      "cell_type": "code",
      "source": [
        "from scipy.spatial import distance\n",
        "import numpy as np\n",
        "\n",
        "# Define the points as numpy arrays for better handling with scipy\n",
        "D1 = np.array((3, 2, 0))\n",
        "D2 = np.array((1, 2, 3))\n",
        "D3 = np.array((2, 2, 2))\n",
        "Q = np.array((1, 5, 0))\n",
        "\n",
        "# Calculate Euclidean distances from Q to D1, D2, D3\n",
        "dist_D1_Q = distance.euclidean(D1, Q)\n",
        "dist_D2_Q = distance.euclidean(D2, Q)\n",
        "dist_D3_Q = distance.euclidean(D3, Q)\n",
        "\n",
        "# Calculate the similarity score using the formula provided in the image\n",
        "sim_D1_Q = 1 / (1 + dist_D1_Q)\n",
        "sim_D2_Q = 1 / (1 + dist_D2_Q)\n",
        "sim_D3_Q = 1 / (1 + dist_D3_Q)\n",
        "\n",
        "# Print the distances and the similarity scores\n",
        "dist_D1_Q, sim_D1_Q, dist_D2_Q, sim_D2_Q, dist_D3_Q, sim_D3_Q\n"
      ],
      "metadata": {
        "colab": {
          "base_uri": "https://localhost:8080/"
        },
        "id": "CJtnpqcpMaSV",
        "outputId": "31ce99a1-732f-4197-ec86-f2c97a51eb5c"
      },
      "execution_count": 2,
      "outputs": [
        {
          "output_type": "execute_result",
          "data": {
            "text/plain": [
              "(3.605551275463989,\n",
              " 0.21712927295533244,\n",
              " 4.242640687119285,\n",
              " 0.1907435698305462,\n",
              " 3.7416573867739413,\n",
              " 0.21089672205953397)"
            ]
          },
          "metadata": {},
          "execution_count": 2
        }
      ]
    },
    {
      "cell_type": "code",
      "source": [
        "import numpy as np\n",
        "\n",
        "def dist(x, y):\n",
        "    return np.sqrt(np.sum((x-y)**2))\n",
        "\n",
        "D1 = np.array((3,2,0))\n",
        "D2 = np.array((1,2,3))\n",
        "D3 = np.array((2,2,2))\n",
        "Q = np.array((1,5,0))\n",
        "\n",
        "dist_D1_Q = 1 / (1+dist(D1, Q))\n",
        "dist_D2_Q = 1 / (1+dist(D2, Q))\n",
        "dist_D3_Q = 1 / (1+dist(D3, Q))\n",
        "\n",
        "print(\"D1-Q : \" + str(dist_D1_Q))\n",
        "print(\"D2-Q : \" + str(dist_D2_Q))\n",
        "print(\"D3-Q : \" + str(dist_D3_Q))\n"
      ],
      "metadata": {
        "colab": {
          "base_uri": "https://localhost:8080/"
        },
        "id": "KJ9-z9z8Oj7R",
        "outputId": "45677c04-8ab7-4cf5-d61e-44e079205d68"
      },
      "execution_count": 3,
      "outputs": [
        {
          "output_type": "stream",
          "name": "stdout",
          "text": [
            "D1-Q : 0.21712927295533244\n",
            "D2-Q : 0.1907435698305462\n",
            "D3-Q : 0.21089672205953397\n"
          ]
        }
      ]
    },
    {
      "cell_type": "markdown",
      "source": [
        "##피어슨 상관계수(Pearson correlation coefficient)"
      ],
      "metadata": {
        "id": "4DwH0Vv_OniB"
      }
    },
    {
      "cell_type": "markdown",
      "source": [
        "###피어슨 상관계수 계산하기"
      ],
      "metadata": {
        "id": "8ZSKiNcQO2fe"
      }
    },
    {
      "cell_type": "code",
      "source": [
        "import pandas as pd\n",
        "data_dict = {'지각': [1, 2, 3, 4, 5],\n",
        "'판매수': [8, 7, 6, 4, 5]}\n",
        "df = pd.DataFrame(data_dict)\n",
        "df\n"
      ],
      "metadata": {
        "colab": {
          "base_uri": "https://localhost:8080/",
          "height": 206
        },
        "id": "W4RZORtXMaPD",
        "outputId": "c5dc3a94-8e25-4804-f597-c7953c8a23ca"
      },
      "execution_count": 4,
      "outputs": [
        {
          "output_type": "execute_result",
          "data": {
            "text/plain": [
              "   지각  판매수\n",
              "0   1    8\n",
              "1   2    7\n",
              "2   3    6\n",
              "3   4    4\n",
              "4   5    5"
            ],
            "text/html": [
              "\n",
              "  <div id=\"df-bd66a6ca-e6a5-4cb8-89bd-66ba54fd7683\" class=\"colab-df-container\">\n",
              "    <div>\n",
              "<style scoped>\n",
              "    .dataframe tbody tr th:only-of-type {\n",
              "        vertical-align: middle;\n",
              "    }\n",
              "\n",
              "    .dataframe tbody tr th {\n",
              "        vertical-align: top;\n",
              "    }\n",
              "\n",
              "    .dataframe thead th {\n",
              "        text-align: right;\n",
              "    }\n",
              "</style>\n",
              "<table border=\"1\" class=\"dataframe\">\n",
              "  <thead>\n",
              "    <tr style=\"text-align: right;\">\n",
              "      <th></th>\n",
              "      <th>지각</th>\n",
              "      <th>판매수</th>\n",
              "    </tr>\n",
              "  </thead>\n",
              "  <tbody>\n",
              "    <tr>\n",
              "      <th>0</th>\n",
              "      <td>1</td>\n",
              "      <td>8</td>\n",
              "    </tr>\n",
              "    <tr>\n",
              "      <th>1</th>\n",
              "      <td>2</td>\n",
              "      <td>7</td>\n",
              "    </tr>\n",
              "    <tr>\n",
              "      <th>2</th>\n",
              "      <td>3</td>\n",
              "      <td>6</td>\n",
              "    </tr>\n",
              "    <tr>\n",
              "      <th>3</th>\n",
              "      <td>4</td>\n",
              "      <td>4</td>\n",
              "    </tr>\n",
              "    <tr>\n",
              "      <th>4</th>\n",
              "      <td>5</td>\n",
              "      <td>5</td>\n",
              "    </tr>\n",
              "  </tbody>\n",
              "</table>\n",
              "</div>\n",
              "    <div class=\"colab-df-buttons\">\n",
              "\n",
              "  <div class=\"colab-df-container\">\n",
              "    <button class=\"colab-df-convert\" onclick=\"convertToInteractive('df-bd66a6ca-e6a5-4cb8-89bd-66ba54fd7683')\"\n",
              "            title=\"Convert this dataframe to an interactive table.\"\n",
              "            style=\"display:none;\">\n",
              "\n",
              "  <svg xmlns=\"http://www.w3.org/2000/svg\" height=\"24px\" viewBox=\"0 -960 960 960\">\n",
              "    <path d=\"M120-120v-720h720v720H120Zm60-500h600v-160H180v160Zm220 220h160v-160H400v160Zm0 220h160v-160H400v160ZM180-400h160v-160H180v160Zm440 0h160v-160H620v160ZM180-180h160v-160H180v160Zm440 0h160v-160H620v160Z\"/>\n",
              "  </svg>\n",
              "    </button>\n",
              "\n",
              "  <style>\n",
              "    .colab-df-container {\n",
              "      display:flex;\n",
              "      gap: 12px;\n",
              "    }\n",
              "\n",
              "    .colab-df-convert {\n",
              "      background-color: #E8F0FE;\n",
              "      border: none;\n",
              "      border-radius: 50%;\n",
              "      cursor: pointer;\n",
              "      display: none;\n",
              "      fill: #1967D2;\n",
              "      height: 32px;\n",
              "      padding: 0 0 0 0;\n",
              "      width: 32px;\n",
              "    }\n",
              "\n",
              "    .colab-df-convert:hover {\n",
              "      background-color: #E2EBFA;\n",
              "      box-shadow: 0px 1px 2px rgba(60, 64, 67, 0.3), 0px 1px 3px 1px rgba(60, 64, 67, 0.15);\n",
              "      fill: #174EA6;\n",
              "    }\n",
              "\n",
              "    .colab-df-buttons div {\n",
              "      margin-bottom: 4px;\n",
              "    }\n",
              "\n",
              "    [theme=dark] .colab-df-convert {\n",
              "      background-color: #3B4455;\n",
              "      fill: #D2E3FC;\n",
              "    }\n",
              "\n",
              "    [theme=dark] .colab-df-convert:hover {\n",
              "      background-color: #434B5C;\n",
              "      box-shadow: 0px 1px 3px 1px rgba(0, 0, 0, 0.15);\n",
              "      filter: drop-shadow(0px 1px 2px rgba(0, 0, 0, 0.3));\n",
              "      fill: #FFFFFF;\n",
              "    }\n",
              "  </style>\n",
              "\n",
              "    <script>\n",
              "      const buttonEl =\n",
              "        document.querySelector('#df-bd66a6ca-e6a5-4cb8-89bd-66ba54fd7683 button.colab-df-convert');\n",
              "      buttonEl.style.display =\n",
              "        google.colab.kernel.accessAllowed ? 'block' : 'none';\n",
              "\n",
              "      async function convertToInteractive(key) {\n",
              "        const element = document.querySelector('#df-bd66a6ca-e6a5-4cb8-89bd-66ba54fd7683');\n",
              "        const dataTable =\n",
              "          await google.colab.kernel.invokeFunction('convertToInteractive',\n",
              "                                                    [key], {});\n",
              "        if (!dataTable) return;\n",
              "\n",
              "        const docLinkHtml = 'Like what you see? Visit the ' +\n",
              "          '<a target=\"_blank\" href=https://colab.research.google.com/notebooks/data_table.ipynb>data table notebook</a>'\n",
              "          + ' to learn more about interactive tables.';\n",
              "        element.innerHTML = '';\n",
              "        dataTable['output_type'] = 'display_data';\n",
              "        await google.colab.output.renderOutput(dataTable, element);\n",
              "        const docLink = document.createElement('div');\n",
              "        docLink.innerHTML = docLinkHtml;\n",
              "        element.appendChild(docLink);\n",
              "      }\n",
              "    </script>\n",
              "  </div>\n",
              "\n",
              "\n",
              "<div id=\"df-00c34f57-7458-4797-bead-2b6a23fd8a6e\">\n",
              "  <button class=\"colab-df-quickchart\" onclick=\"quickchart('df-00c34f57-7458-4797-bead-2b6a23fd8a6e')\"\n",
              "            title=\"Suggest charts\"\n",
              "            style=\"display:none;\">\n",
              "\n",
              "<svg xmlns=\"http://www.w3.org/2000/svg\" height=\"24px\"viewBox=\"0 0 24 24\"\n",
              "     width=\"24px\">\n",
              "    <g>\n",
              "        <path d=\"M19 3H5c-1.1 0-2 .9-2 2v14c0 1.1.9 2 2 2h14c1.1 0 2-.9 2-2V5c0-1.1-.9-2-2-2zM9 17H7v-7h2v7zm4 0h-2V7h2v10zm4 0h-2v-4h2v4z\"/>\n",
              "    </g>\n",
              "</svg>\n",
              "  </button>\n",
              "\n",
              "<style>\n",
              "  .colab-df-quickchart {\n",
              "      --bg-color: #E8F0FE;\n",
              "      --fill-color: #1967D2;\n",
              "      --hover-bg-color: #E2EBFA;\n",
              "      --hover-fill-color: #174EA6;\n",
              "      --disabled-fill-color: #AAA;\n",
              "      --disabled-bg-color: #DDD;\n",
              "  }\n",
              "\n",
              "  [theme=dark] .colab-df-quickchart {\n",
              "      --bg-color: #3B4455;\n",
              "      --fill-color: #D2E3FC;\n",
              "      --hover-bg-color: #434B5C;\n",
              "      --hover-fill-color: #FFFFFF;\n",
              "      --disabled-bg-color: #3B4455;\n",
              "      --disabled-fill-color: #666;\n",
              "  }\n",
              "\n",
              "  .colab-df-quickchart {\n",
              "    background-color: var(--bg-color);\n",
              "    border: none;\n",
              "    border-radius: 50%;\n",
              "    cursor: pointer;\n",
              "    display: none;\n",
              "    fill: var(--fill-color);\n",
              "    height: 32px;\n",
              "    padding: 0;\n",
              "    width: 32px;\n",
              "  }\n",
              "\n",
              "  .colab-df-quickchart:hover {\n",
              "    background-color: var(--hover-bg-color);\n",
              "    box-shadow: 0 1px 2px rgba(60, 64, 67, 0.3), 0 1px 3px 1px rgba(60, 64, 67, 0.15);\n",
              "    fill: var(--button-hover-fill-color);\n",
              "  }\n",
              "\n",
              "  .colab-df-quickchart-complete:disabled,\n",
              "  .colab-df-quickchart-complete:disabled:hover {\n",
              "    background-color: var(--disabled-bg-color);\n",
              "    fill: var(--disabled-fill-color);\n",
              "    box-shadow: none;\n",
              "  }\n",
              "\n",
              "  .colab-df-spinner {\n",
              "    border: 2px solid var(--fill-color);\n",
              "    border-color: transparent;\n",
              "    border-bottom-color: var(--fill-color);\n",
              "    animation:\n",
              "      spin 1s steps(1) infinite;\n",
              "  }\n",
              "\n",
              "  @keyframes spin {\n",
              "    0% {\n",
              "      border-color: transparent;\n",
              "      border-bottom-color: var(--fill-color);\n",
              "      border-left-color: var(--fill-color);\n",
              "    }\n",
              "    20% {\n",
              "      border-color: transparent;\n",
              "      border-left-color: var(--fill-color);\n",
              "      border-top-color: var(--fill-color);\n",
              "    }\n",
              "    30% {\n",
              "      border-color: transparent;\n",
              "      border-left-color: var(--fill-color);\n",
              "      border-top-color: var(--fill-color);\n",
              "      border-right-color: var(--fill-color);\n",
              "    }\n",
              "    40% {\n",
              "      border-color: transparent;\n",
              "      border-right-color: var(--fill-color);\n",
              "      border-top-color: var(--fill-color);\n",
              "    }\n",
              "    60% {\n",
              "      border-color: transparent;\n",
              "      border-right-color: var(--fill-color);\n",
              "    }\n",
              "    80% {\n",
              "      border-color: transparent;\n",
              "      border-right-color: var(--fill-color);\n",
              "      border-bottom-color: var(--fill-color);\n",
              "    }\n",
              "    90% {\n",
              "      border-color: transparent;\n",
              "      border-bottom-color: var(--fill-color);\n",
              "    }\n",
              "  }\n",
              "</style>\n",
              "\n",
              "  <script>\n",
              "    async function quickchart(key) {\n",
              "      const quickchartButtonEl =\n",
              "        document.querySelector('#' + key + ' button');\n",
              "      quickchartButtonEl.disabled = true;  // To prevent multiple clicks.\n",
              "      quickchartButtonEl.classList.add('colab-df-spinner');\n",
              "      try {\n",
              "        const charts = await google.colab.kernel.invokeFunction(\n",
              "            'suggestCharts', [key], {});\n",
              "      } catch (error) {\n",
              "        console.error('Error during call to suggestCharts:', error);\n",
              "      }\n",
              "      quickchartButtonEl.classList.remove('colab-df-spinner');\n",
              "      quickchartButtonEl.classList.add('colab-df-quickchart-complete');\n",
              "    }\n",
              "    (() => {\n",
              "      let quickchartButtonEl =\n",
              "        document.querySelector('#df-00c34f57-7458-4797-bead-2b6a23fd8a6e button');\n",
              "      quickchartButtonEl.style.display =\n",
              "        google.colab.kernel.accessAllowed ? 'block' : 'none';\n",
              "    })();\n",
              "  </script>\n",
              "</div>\n",
              "\n",
              "  <div id=\"id_d81dc0de-6fb6-4a4e-a6f9-afe10820e3f0\">\n",
              "    <style>\n",
              "      .colab-df-generate {\n",
              "        background-color: #E8F0FE;\n",
              "        border: none;\n",
              "        border-radius: 50%;\n",
              "        cursor: pointer;\n",
              "        display: none;\n",
              "        fill: #1967D2;\n",
              "        height: 32px;\n",
              "        padding: 0 0 0 0;\n",
              "        width: 32px;\n",
              "      }\n",
              "\n",
              "      .colab-df-generate:hover {\n",
              "        background-color: #E2EBFA;\n",
              "        box-shadow: 0px 1px 2px rgba(60, 64, 67, 0.3), 0px 1px 3px 1px rgba(60, 64, 67, 0.15);\n",
              "        fill: #174EA6;\n",
              "      }\n",
              "\n",
              "      [theme=dark] .colab-df-generate {\n",
              "        background-color: #3B4455;\n",
              "        fill: #D2E3FC;\n",
              "      }\n",
              "\n",
              "      [theme=dark] .colab-df-generate:hover {\n",
              "        background-color: #434B5C;\n",
              "        box-shadow: 0px 1px 3px 1px rgba(0, 0, 0, 0.15);\n",
              "        filter: drop-shadow(0px 1px 2px rgba(0, 0, 0, 0.3));\n",
              "        fill: #FFFFFF;\n",
              "      }\n",
              "    </style>\n",
              "    <button class=\"colab-df-generate\" onclick=\"generateWithVariable('df')\"\n",
              "            title=\"Generate code using this dataframe.\"\n",
              "            style=\"display:none;\">\n",
              "\n",
              "  <svg xmlns=\"http://www.w3.org/2000/svg\" height=\"24px\"viewBox=\"0 0 24 24\"\n",
              "       width=\"24px\">\n",
              "    <path d=\"M7,19H8.4L18.45,9,17,7.55,7,17.6ZM5,21V16.75L18.45,3.32a2,2,0,0,1,2.83,0l1.4,1.43a1.91,1.91,0,0,1,.58,1.4,1.91,1.91,0,0,1-.58,1.4L9.25,21ZM18.45,9,17,7.55Zm-12,3A5.31,5.31,0,0,0,4.9,8.1,5.31,5.31,0,0,0,1,6.5,5.31,5.31,0,0,0,4.9,4.9,5.31,5.31,0,0,0,6.5,1,5.31,5.31,0,0,0,8.1,4.9,5.31,5.31,0,0,0,12,6.5,5.46,5.46,0,0,0,6.5,12Z\"/>\n",
              "  </svg>\n",
              "    </button>\n",
              "    <script>\n",
              "      (() => {\n",
              "      const buttonEl =\n",
              "        document.querySelector('#id_d81dc0de-6fb6-4a4e-a6f9-afe10820e3f0 button.colab-df-generate');\n",
              "      buttonEl.style.display =\n",
              "        google.colab.kernel.accessAllowed ? 'block' : 'none';\n",
              "\n",
              "      buttonEl.onclick = () => {\n",
              "        google.colab.notebook.generateWithVariable('df');\n",
              "      }\n",
              "      })();\n",
              "    </script>\n",
              "  </div>\n",
              "\n",
              "    </div>\n",
              "  </div>\n"
            ]
          },
          "metadata": {},
          "execution_count": 4
        }
      ]
    },
    {
      "cell_type": "code",
      "source": [
        "re = df.corr(method = 'pearson')\n",
        "print(re)"
      ],
      "metadata": {
        "colab": {
          "base_uri": "https://localhost:8080/"
        },
        "id": "Fy-8098QO9AK",
        "outputId": "24b1e66f-ac90-42e3-bb76-ed9e99a86851"
      },
      "execution_count": 5,
      "outputs": [
        {
          "output_type": "stream",
          "name": "stdout",
          "text": [
            "      지각  판매수\n",
            "지각   1.0 -0.9\n",
            "판매수 -0.9  1.0\n"
          ]
        }
      ]
    },
    {
      "cell_type": "code",
      "source": [
        "import pandas as pd\n",
        "data_dict = {'교육받은 횟수': [1, 3, 5,\n",
        "7],\n",
        " '생산량': [35, 45, 35, 45]}\n",
        "df = pd.DataFrame(data_dict)\n",
        "df"
      ],
      "metadata": {
        "colab": {
          "base_uri": "https://localhost:8080/",
          "height": 175
        },
        "id": "ywbjjArdO_Ui",
        "outputId": "b0713458-1235-4a70-82ee-6b55bfb3925c"
      },
      "execution_count": 6,
      "outputs": [
        {
          "output_type": "execute_result",
          "data": {
            "text/plain": [
              "   교육받은 횟수  생산량\n",
              "0        1   35\n",
              "1        3   45\n",
              "2        5   35\n",
              "3        7   45"
            ],
            "text/html": [
              "\n",
              "  <div id=\"df-868885de-3416-4925-b259-3321c9e9f92a\" class=\"colab-df-container\">\n",
              "    <div>\n",
              "<style scoped>\n",
              "    .dataframe tbody tr th:only-of-type {\n",
              "        vertical-align: middle;\n",
              "    }\n",
              "\n",
              "    .dataframe tbody tr th {\n",
              "        vertical-align: top;\n",
              "    }\n",
              "\n",
              "    .dataframe thead th {\n",
              "        text-align: right;\n",
              "    }\n",
              "</style>\n",
              "<table border=\"1\" class=\"dataframe\">\n",
              "  <thead>\n",
              "    <tr style=\"text-align: right;\">\n",
              "      <th></th>\n",
              "      <th>교육받은 횟수</th>\n",
              "      <th>생산량</th>\n",
              "    </tr>\n",
              "  </thead>\n",
              "  <tbody>\n",
              "    <tr>\n",
              "      <th>0</th>\n",
              "      <td>1</td>\n",
              "      <td>35</td>\n",
              "    </tr>\n",
              "    <tr>\n",
              "      <th>1</th>\n",
              "      <td>3</td>\n",
              "      <td>45</td>\n",
              "    </tr>\n",
              "    <tr>\n",
              "      <th>2</th>\n",
              "      <td>5</td>\n",
              "      <td>35</td>\n",
              "    </tr>\n",
              "    <tr>\n",
              "      <th>3</th>\n",
              "      <td>7</td>\n",
              "      <td>45</td>\n",
              "    </tr>\n",
              "  </tbody>\n",
              "</table>\n",
              "</div>\n",
              "    <div class=\"colab-df-buttons\">\n",
              "\n",
              "  <div class=\"colab-df-container\">\n",
              "    <button class=\"colab-df-convert\" onclick=\"convertToInteractive('df-868885de-3416-4925-b259-3321c9e9f92a')\"\n",
              "            title=\"Convert this dataframe to an interactive table.\"\n",
              "            style=\"display:none;\">\n",
              "\n",
              "  <svg xmlns=\"http://www.w3.org/2000/svg\" height=\"24px\" viewBox=\"0 -960 960 960\">\n",
              "    <path d=\"M120-120v-720h720v720H120Zm60-500h600v-160H180v160Zm220 220h160v-160H400v160Zm0 220h160v-160H400v160ZM180-400h160v-160H180v160Zm440 0h160v-160H620v160ZM180-180h160v-160H180v160Zm440 0h160v-160H620v160Z\"/>\n",
              "  </svg>\n",
              "    </button>\n",
              "\n",
              "  <style>\n",
              "    .colab-df-container {\n",
              "      display:flex;\n",
              "      gap: 12px;\n",
              "    }\n",
              "\n",
              "    .colab-df-convert {\n",
              "      background-color: #E8F0FE;\n",
              "      border: none;\n",
              "      border-radius: 50%;\n",
              "      cursor: pointer;\n",
              "      display: none;\n",
              "      fill: #1967D2;\n",
              "      height: 32px;\n",
              "      padding: 0 0 0 0;\n",
              "      width: 32px;\n",
              "    }\n",
              "\n",
              "    .colab-df-convert:hover {\n",
              "      background-color: #E2EBFA;\n",
              "      box-shadow: 0px 1px 2px rgba(60, 64, 67, 0.3), 0px 1px 3px 1px rgba(60, 64, 67, 0.15);\n",
              "      fill: #174EA6;\n",
              "    }\n",
              "\n",
              "    .colab-df-buttons div {\n",
              "      margin-bottom: 4px;\n",
              "    }\n",
              "\n",
              "    [theme=dark] .colab-df-convert {\n",
              "      background-color: #3B4455;\n",
              "      fill: #D2E3FC;\n",
              "    }\n",
              "\n",
              "    [theme=dark] .colab-df-convert:hover {\n",
              "      background-color: #434B5C;\n",
              "      box-shadow: 0px 1px 3px 1px rgba(0, 0, 0, 0.15);\n",
              "      filter: drop-shadow(0px 1px 2px rgba(0, 0, 0, 0.3));\n",
              "      fill: #FFFFFF;\n",
              "    }\n",
              "  </style>\n",
              "\n",
              "    <script>\n",
              "      const buttonEl =\n",
              "        document.querySelector('#df-868885de-3416-4925-b259-3321c9e9f92a button.colab-df-convert');\n",
              "      buttonEl.style.display =\n",
              "        google.colab.kernel.accessAllowed ? 'block' : 'none';\n",
              "\n",
              "      async function convertToInteractive(key) {\n",
              "        const element = document.querySelector('#df-868885de-3416-4925-b259-3321c9e9f92a');\n",
              "        const dataTable =\n",
              "          await google.colab.kernel.invokeFunction('convertToInteractive',\n",
              "                                                    [key], {});\n",
              "        if (!dataTable) return;\n",
              "\n",
              "        const docLinkHtml = 'Like what you see? Visit the ' +\n",
              "          '<a target=\"_blank\" href=https://colab.research.google.com/notebooks/data_table.ipynb>data table notebook</a>'\n",
              "          + ' to learn more about interactive tables.';\n",
              "        element.innerHTML = '';\n",
              "        dataTable['output_type'] = 'display_data';\n",
              "        await google.colab.output.renderOutput(dataTable, element);\n",
              "        const docLink = document.createElement('div');\n",
              "        docLink.innerHTML = docLinkHtml;\n",
              "        element.appendChild(docLink);\n",
              "      }\n",
              "    </script>\n",
              "  </div>\n",
              "\n",
              "\n",
              "<div id=\"df-49aa86ba-9add-4e32-9d89-7b9032e86184\">\n",
              "  <button class=\"colab-df-quickchart\" onclick=\"quickchart('df-49aa86ba-9add-4e32-9d89-7b9032e86184')\"\n",
              "            title=\"Suggest charts\"\n",
              "            style=\"display:none;\">\n",
              "\n",
              "<svg xmlns=\"http://www.w3.org/2000/svg\" height=\"24px\"viewBox=\"0 0 24 24\"\n",
              "     width=\"24px\">\n",
              "    <g>\n",
              "        <path d=\"M19 3H5c-1.1 0-2 .9-2 2v14c0 1.1.9 2 2 2h14c1.1 0 2-.9 2-2V5c0-1.1-.9-2-2-2zM9 17H7v-7h2v7zm4 0h-2V7h2v10zm4 0h-2v-4h2v4z\"/>\n",
              "    </g>\n",
              "</svg>\n",
              "  </button>\n",
              "\n",
              "<style>\n",
              "  .colab-df-quickchart {\n",
              "      --bg-color: #E8F0FE;\n",
              "      --fill-color: #1967D2;\n",
              "      --hover-bg-color: #E2EBFA;\n",
              "      --hover-fill-color: #174EA6;\n",
              "      --disabled-fill-color: #AAA;\n",
              "      --disabled-bg-color: #DDD;\n",
              "  }\n",
              "\n",
              "  [theme=dark] .colab-df-quickchart {\n",
              "      --bg-color: #3B4455;\n",
              "      --fill-color: #D2E3FC;\n",
              "      --hover-bg-color: #434B5C;\n",
              "      --hover-fill-color: #FFFFFF;\n",
              "      --disabled-bg-color: #3B4455;\n",
              "      --disabled-fill-color: #666;\n",
              "  }\n",
              "\n",
              "  .colab-df-quickchart {\n",
              "    background-color: var(--bg-color);\n",
              "    border: none;\n",
              "    border-radius: 50%;\n",
              "    cursor: pointer;\n",
              "    display: none;\n",
              "    fill: var(--fill-color);\n",
              "    height: 32px;\n",
              "    padding: 0;\n",
              "    width: 32px;\n",
              "  }\n",
              "\n",
              "  .colab-df-quickchart:hover {\n",
              "    background-color: var(--hover-bg-color);\n",
              "    box-shadow: 0 1px 2px rgba(60, 64, 67, 0.3), 0 1px 3px 1px rgba(60, 64, 67, 0.15);\n",
              "    fill: var(--button-hover-fill-color);\n",
              "  }\n",
              "\n",
              "  .colab-df-quickchart-complete:disabled,\n",
              "  .colab-df-quickchart-complete:disabled:hover {\n",
              "    background-color: var(--disabled-bg-color);\n",
              "    fill: var(--disabled-fill-color);\n",
              "    box-shadow: none;\n",
              "  }\n",
              "\n",
              "  .colab-df-spinner {\n",
              "    border: 2px solid var(--fill-color);\n",
              "    border-color: transparent;\n",
              "    border-bottom-color: var(--fill-color);\n",
              "    animation:\n",
              "      spin 1s steps(1) infinite;\n",
              "  }\n",
              "\n",
              "  @keyframes spin {\n",
              "    0% {\n",
              "      border-color: transparent;\n",
              "      border-bottom-color: var(--fill-color);\n",
              "      border-left-color: var(--fill-color);\n",
              "    }\n",
              "    20% {\n",
              "      border-color: transparent;\n",
              "      border-left-color: var(--fill-color);\n",
              "      border-top-color: var(--fill-color);\n",
              "    }\n",
              "    30% {\n",
              "      border-color: transparent;\n",
              "      border-left-color: var(--fill-color);\n",
              "      border-top-color: var(--fill-color);\n",
              "      border-right-color: var(--fill-color);\n",
              "    }\n",
              "    40% {\n",
              "      border-color: transparent;\n",
              "      border-right-color: var(--fill-color);\n",
              "      border-top-color: var(--fill-color);\n",
              "    }\n",
              "    60% {\n",
              "      border-color: transparent;\n",
              "      border-right-color: var(--fill-color);\n",
              "    }\n",
              "    80% {\n",
              "      border-color: transparent;\n",
              "      border-right-color: var(--fill-color);\n",
              "      border-bottom-color: var(--fill-color);\n",
              "    }\n",
              "    90% {\n",
              "      border-color: transparent;\n",
              "      border-bottom-color: var(--fill-color);\n",
              "    }\n",
              "  }\n",
              "</style>\n",
              "\n",
              "  <script>\n",
              "    async function quickchart(key) {\n",
              "      const quickchartButtonEl =\n",
              "        document.querySelector('#' + key + ' button');\n",
              "      quickchartButtonEl.disabled = true;  // To prevent multiple clicks.\n",
              "      quickchartButtonEl.classList.add('colab-df-spinner');\n",
              "      try {\n",
              "        const charts = await google.colab.kernel.invokeFunction(\n",
              "            'suggestCharts', [key], {});\n",
              "      } catch (error) {\n",
              "        console.error('Error during call to suggestCharts:', error);\n",
              "      }\n",
              "      quickchartButtonEl.classList.remove('colab-df-spinner');\n",
              "      quickchartButtonEl.classList.add('colab-df-quickchart-complete');\n",
              "    }\n",
              "    (() => {\n",
              "      let quickchartButtonEl =\n",
              "        document.querySelector('#df-49aa86ba-9add-4e32-9d89-7b9032e86184 button');\n",
              "      quickchartButtonEl.style.display =\n",
              "        google.colab.kernel.accessAllowed ? 'block' : 'none';\n",
              "    })();\n",
              "  </script>\n",
              "</div>\n",
              "\n",
              "  <div id=\"id_4a0cc35e-4d81-46a8-aeb3-ed13b47c205a\">\n",
              "    <style>\n",
              "      .colab-df-generate {\n",
              "        background-color: #E8F0FE;\n",
              "        border: none;\n",
              "        border-radius: 50%;\n",
              "        cursor: pointer;\n",
              "        display: none;\n",
              "        fill: #1967D2;\n",
              "        height: 32px;\n",
              "        padding: 0 0 0 0;\n",
              "        width: 32px;\n",
              "      }\n",
              "\n",
              "      .colab-df-generate:hover {\n",
              "        background-color: #E2EBFA;\n",
              "        box-shadow: 0px 1px 2px rgba(60, 64, 67, 0.3), 0px 1px 3px 1px rgba(60, 64, 67, 0.15);\n",
              "        fill: #174EA6;\n",
              "      }\n",
              "\n",
              "      [theme=dark] .colab-df-generate {\n",
              "        background-color: #3B4455;\n",
              "        fill: #D2E3FC;\n",
              "      }\n",
              "\n",
              "      [theme=dark] .colab-df-generate:hover {\n",
              "        background-color: #434B5C;\n",
              "        box-shadow: 0px 1px 3px 1px rgba(0, 0, 0, 0.15);\n",
              "        filter: drop-shadow(0px 1px 2px rgba(0, 0, 0, 0.3));\n",
              "        fill: #FFFFFF;\n",
              "      }\n",
              "    </style>\n",
              "    <button class=\"colab-df-generate\" onclick=\"generateWithVariable('df')\"\n",
              "            title=\"Generate code using this dataframe.\"\n",
              "            style=\"display:none;\">\n",
              "\n",
              "  <svg xmlns=\"http://www.w3.org/2000/svg\" height=\"24px\"viewBox=\"0 0 24 24\"\n",
              "       width=\"24px\">\n",
              "    <path d=\"M7,19H8.4L18.45,9,17,7.55,7,17.6ZM5,21V16.75L18.45,3.32a2,2,0,0,1,2.83,0l1.4,1.43a1.91,1.91,0,0,1,.58,1.4,1.91,1.91,0,0,1-.58,1.4L9.25,21ZM18.45,9,17,7.55Zm-12,3A5.31,5.31,0,0,0,4.9,8.1,5.31,5.31,0,0,0,1,6.5,5.31,5.31,0,0,0,4.9,4.9,5.31,5.31,0,0,0,6.5,1,5.31,5.31,0,0,0,8.1,4.9,5.31,5.31,0,0,0,12,6.5,5.46,5.46,0,0,0,6.5,12Z\"/>\n",
              "  </svg>\n",
              "    </button>\n",
              "    <script>\n",
              "      (() => {\n",
              "      const buttonEl =\n",
              "        document.querySelector('#id_4a0cc35e-4d81-46a8-aeb3-ed13b47c205a button.colab-df-generate');\n",
              "      buttonEl.style.display =\n",
              "        google.colab.kernel.accessAllowed ? 'block' : 'none';\n",
              "\n",
              "      buttonEl.onclick = () => {\n",
              "        google.colab.notebook.generateWithVariable('df');\n",
              "      }\n",
              "      })();\n",
              "    </script>\n",
              "  </div>\n",
              "\n",
              "    </div>\n",
              "  </div>\n"
            ]
          },
          "metadata": {},
          "execution_count": 6
        }
      ]
    },
    {
      "cell_type": "code",
      "source": [
        "re = df.corr(method = 'pearson')\n",
        "print(re)"
      ],
      "metadata": {
        "colab": {
          "base_uri": "https://localhost:8080/"
        },
        "id": "ouvxNFT_PCTc",
        "outputId": "8ccbb8f7-5b08-4342-e039-56b62ff9a7ad"
      },
      "execution_count": 7,
      "outputs": [
        {
          "output_type": "stream",
          "name": "stdout",
          "text": [
            "          교육받은 횟수       생산량\n",
            "교육받은 횟수  1.000000  0.447214\n",
            "생산량      0.447214  1.000000\n"
          ]
        }
      ]
    },
    {
      "cell_type": "markdown",
      "source": [
        "##코사인 유사도(Cosine Similarity)"
      ],
      "metadata": {
        "id": "VOrsWK35PFFk"
      }
    },
    {
      "cell_type": "markdown",
      "source": [
        "###A = (1,2,3,4,5) , B = (6,7,8,9,10), A와 B의 코사인유사도를구하시오.\n",
        "\n",
        "코사인 유사도는 두 벡터가 얼마나 같은 방향을 가리키고 있는지 측정하는 지표로, -1과 1 사이의 값을 가지며, 1에 가까울수록 두 벡터의 방향이 같음을 나타냅니다.\n",
        "\n"
      ],
      "metadata": {
        "id": "rqaiR3cGPLas"
      }
    },
    {
      "cell_type": "code",
      "source": [
        "# 방법 1\n",
        "from scipy import spatial\n",
        "dataSet1 = [1, 2, 3, 4, 5]\n",
        "dataSet2 = [6, 7, 8, 9, 10]\n",
        "result = 1 - spatial.distance.cosine(dataSet1, dataSet2)\n",
        "print(result)\n"
      ],
      "metadata": {
        "colab": {
          "base_uri": "https://localhost:8080/"
        },
        "id": "Het-4b_5MaL4",
        "outputId": "3a10397c-9ba4-43b3-c115-fe573016e33a"
      },
      "execution_count": 8,
      "outputs": [
        {
          "output_type": "stream",
          "name": "stdout",
          "text": [
            "0.9649505047327671\n"
          ]
        }
      ]
    },
    {
      "cell_type": "code",
      "source": [
        "# 방법 2\n",
        "from sklearn.metrics.pairwise import cosine_similarity\n",
        "cosine_similarity([[1,2,3,4,5]], [[6,7,8,9,10]])"
      ],
      "metadata": {
        "colab": {
          "base_uri": "https://localhost:8080/"
        },
        "id": "Czlw6p46MaIt",
        "outputId": "b3d56793-c516-41d8-8876-86128f64bfac"
      },
      "execution_count": 9,
      "outputs": [
        {
          "output_type": "execute_result",
          "data": {
            "text/plain": [
              "array([[0.9649505]])"
            ]
          },
          "metadata": {},
          "execution_count": 9
        }
      ]
    },
    {
      "cell_type": "code",
      "source": [
        "#방법3\n",
        "import math\n",
        "def cosine_similarity(v1, v2):\n",
        " sumxx, sumxy, sumyy = 0,0,0\n",
        " for i in range(len(v1)):\n",
        "    x = v1[i]\n",
        "    y = v2[i]\n",
        "    sumxx += x*x\n",
        "    sumyy += y*y\n",
        "    sumxy += x*y\n",
        " return sumxy / math.sqrt(sumxx * sumyy)\n",
        "v1, v2 = [1,2,3,4,5],[6,7,8,9,10]\n",
        "print(v1, v2, cosine_similarity(v1, v2))\n"
      ],
      "metadata": {
        "colab": {
          "base_uri": "https://localhost:8080/"
        },
        "id": "s1PMgqJAPRdS",
        "outputId": "61c2700c-fc5d-4d77-a27d-e0b16ed4f9c5"
      },
      "execution_count": 11,
      "outputs": [
        {
          "output_type": "stream",
          "name": "stdout",
          "text": [
            "[1, 2, 3, 4, 5] [6, 7, 8, 9, 10] 0.9649505047327671\n"
          ]
        }
      ]
    },
    {
      "cell_type": "code",
      "source": [
        "# 방법 4\n",
        "from numpy import dot\n",
        "from numpy.linalg import norm\n",
        "a, b = [1,2,3,4,5],[6,7,8,9,10]\n",
        "cosine_sim = dot(a,b) / (norm(a) * norm(b))\n",
        "print(cosine_sim)"
      ],
      "metadata": {
        "colab": {
          "base_uri": "https://localhost:8080/"
        },
        "id": "Uzu4tw-2MaFr",
        "outputId": "e2c486f5-35ae-4dff-e2b0-01630ea3ca77"
      },
      "execution_count": 12,
      "outputs": [
        {
          "output_type": "stream",
          "name": "stdout",
          "text": [
            "0.9649505047327671\n"
          ]
        }
      ]
    },
    {
      "cell_type": "code",
      "source": [
        "from sklearn.metrics.pairwise import cosine_similarity\n",
        "\n",
        "cosine_similarity([[2, 1, 1, 1]], [[5, 5, 5, 4]])\n"
      ],
      "metadata": {
        "colab": {
          "base_uri": "https://localhost:8080/"
        },
        "id": "WQ9xct46MaCS",
        "outputId": "4449ec7c-37cb-41a5-e522-96ecabd91ba4"
      },
      "execution_count": 13,
      "outputs": [
        {
          "output_type": "execute_result",
          "data": {
            "text/plain": [
              "array([[0.95091462]])"
            ]
          },
          "metadata": {},
          "execution_count": 13
        }
      ]
    },
    {
      "cell_type": "markdown",
      "source": [
        "* 코사인유사도는사용자별평가성향을반영하지못함   \n",
        "* 이러한점을보완하기위해서피어슨상관계수를 이용함"
      ],
      "metadata": {
        "id": "_RjpnGAwQBDD"
      }
    },
    {
      "cell_type": "code",
      "source": [
        "import pandas as pd\n",
        "\n",
        "data_dict = {'사용자A': [2, 1, 1, 1], '사용자B': [5, 5, 5, 4]}\n",
        "df = pd.DataFrame(data_dict)\n",
        "re = df.corr(method='pearson')\n",
        "print(re)\n"
      ],
      "metadata": {
        "colab": {
          "base_uri": "https://localhost:8080/"
        },
        "id": "Gtddg_05P522",
        "outputId": "d587bb9b-ac4b-4195-9ac4-2b1535dc7cbe"
      },
      "execution_count": 14,
      "outputs": [
        {
          "output_type": "stream",
          "name": "stdout",
          "text": [
            "          사용자A      사용자B\n",
            "사용자A  1.000000  0.333333\n",
            "사용자B  0.333333  1.000000\n"
          ]
        }
      ]
    },
    {
      "cell_type": "markdown",
      "source": [
        "##자카드 유사도(Jaccard similarity)"
      ],
      "metadata": {
        "id": "Z6CQ4LPnP67X"
      }
    },
    {
      "cell_type": "markdown",
      "source": [
        "* 자카드유사도는두 사용자와아이템사이의합집합에대한교집합의비율로계산\n",
        "* 사용자나아이템이벡터뿐만아니라집합으로표현될수 있기때문에자카드유사도를\n",
        "적용할수 있음\n",
        "* 사용자또는아이템의유사도를구매여부, 조회여부와같은이진값(0,1)을 이용하여계산할\n",
        "수 있음"
      ],
      "metadata": {
        "id": "M3CHVs8FQGEh"
      }
    },
    {
      "cell_type": "code",
      "source": [
        "# 방법 1\n",
        "import numpy as np\n",
        "from sklearn.metrics import jaccard_score\n",
        "Person_A = [1, 0, 1, 1, 1, 0, 1, 1]\n",
        "Person_B = [0, 1, 1, 1, 0, 1, 0, 1]\n",
        "jaccard_score(Person_A , Person_B)"
      ],
      "metadata": {
        "colab": {
          "base_uri": "https://localhost:8080/"
        },
        "id": "toE0dOhZP5zl",
        "outputId": "b680539a-220e-42ae-87ce-af7f8b763357"
      },
      "execution_count": 15,
      "outputs": [
        {
          "output_type": "execute_result",
          "data": {
            "text/plain": [
              "0.375"
            ]
          },
          "metadata": {},
          "execution_count": 15
        }
      ]
    },
    {
      "cell_type": "code",
      "source": [
        "# 방법 2\n",
        "def jaccard(a,b):\n",
        " c = a.intersection(b)\n",
        " return float(len(c)) / (len(a) + len(b) - len(c))\n",
        "\n",
        "Person_A = ['전산', '개발', 'C언어', '자바', '스칼라', '하둡']\n",
        "Person_B = ['석사', '개발', 'C언어', '파이썬', '하둡']\n",
        "Person_A_set = set(Person_A)\n",
        "Person_B_set = set(Person_B)\n",
        "jaccard(Person_A_set, Person_B_set)"
      ],
      "metadata": {
        "colab": {
          "base_uri": "https://localhost:8080/"
        },
        "id": "WfemFiHTP5wD",
        "outputId": "c71bab7d-766a-4845-c711-01eba86810bd"
      },
      "execution_count": 16,
      "outputs": [
        {
          "output_type": "execute_result",
          "data": {
            "text/plain": [
              "0.375"
            ]
          },
          "metadata": {},
          "execution_count": 16
        }
      ]
    },
    {
      "cell_type": "code",
      "source": [
        "# 방법 3\n",
        "import numpy as np\n",
        "def jaccard(a,b):\n",
        " c = a==b\n",
        " print(c)\n",
        " return float(sum(c)/len(a))\n",
        "Person_A=np.array([1,0,1,1,1,0,1,1])\n",
        "Person_B=np.array([0,1,1,1,0,1,0,1])\n",
        "jaccard(Person_A, Person_B)"
      ],
      "metadata": {
        "colab": {
          "base_uri": "https://localhost:8080/"
        },
        "id": "wPX7Fd-LP0zD",
        "outputId": "8fcc6ba1-b915-447d-d0e1-20f7e39503bb"
      },
      "execution_count": 17,
      "outputs": [
        {
          "output_type": "stream",
          "name": "stdout",
          "text": [
            "[False False  True  True False False False  True]\n"
          ]
        },
        {
          "output_type": "execute_result",
          "data": {
            "text/plain": [
              "0.375"
            ]
          },
          "metadata": {},
          "execution_count": 17
        }
      ]
    },
    {
      "cell_type": "markdown",
      "source": [
        "##Kendall’s Tau correlation coefficient\n",
        "\n",
        "\n",
        "켄달의 타우 상관계수"
      ],
      "metadata": {
        "id": "0HVQZz7yQSeN"
      }
    },
    {
      "cell_type": "code",
      "source": [
        "import pandas as pd\n",
        "data_dict = {'교육받은 횟수': [1, 3, 5, 7],\n",
        " '생산량': [35, 45, 35, 45]}\n",
        "df = pd.DataFrame(data_dict)\n",
        "df"
      ],
      "metadata": {
        "colab": {
          "base_uri": "https://localhost:8080/",
          "height": 175
        },
        "id": "hsHxbdW6P0wB",
        "outputId": "9af62d5f-10a2-4948-bfbd-c6b6ea845448"
      },
      "execution_count": 18,
      "outputs": [
        {
          "output_type": "execute_result",
          "data": {
            "text/plain": [
              "   교육받은 횟수  생산량\n",
              "0        1   35\n",
              "1        3   45\n",
              "2        5   35\n",
              "3        7   45"
            ],
            "text/html": [
              "\n",
              "  <div id=\"df-a4d0fd86-8d16-45dc-8839-dda9dd26f1fc\" class=\"colab-df-container\">\n",
              "    <div>\n",
              "<style scoped>\n",
              "    .dataframe tbody tr th:only-of-type {\n",
              "        vertical-align: middle;\n",
              "    }\n",
              "\n",
              "    .dataframe tbody tr th {\n",
              "        vertical-align: top;\n",
              "    }\n",
              "\n",
              "    .dataframe thead th {\n",
              "        text-align: right;\n",
              "    }\n",
              "</style>\n",
              "<table border=\"1\" class=\"dataframe\">\n",
              "  <thead>\n",
              "    <tr style=\"text-align: right;\">\n",
              "      <th></th>\n",
              "      <th>교육받은 횟수</th>\n",
              "      <th>생산량</th>\n",
              "    </tr>\n",
              "  </thead>\n",
              "  <tbody>\n",
              "    <tr>\n",
              "      <th>0</th>\n",
              "      <td>1</td>\n",
              "      <td>35</td>\n",
              "    </tr>\n",
              "    <tr>\n",
              "      <th>1</th>\n",
              "      <td>3</td>\n",
              "      <td>45</td>\n",
              "    </tr>\n",
              "    <tr>\n",
              "      <th>2</th>\n",
              "      <td>5</td>\n",
              "      <td>35</td>\n",
              "    </tr>\n",
              "    <tr>\n",
              "      <th>3</th>\n",
              "      <td>7</td>\n",
              "      <td>45</td>\n",
              "    </tr>\n",
              "  </tbody>\n",
              "</table>\n",
              "</div>\n",
              "    <div class=\"colab-df-buttons\">\n",
              "\n",
              "  <div class=\"colab-df-container\">\n",
              "    <button class=\"colab-df-convert\" onclick=\"convertToInteractive('df-a4d0fd86-8d16-45dc-8839-dda9dd26f1fc')\"\n",
              "            title=\"Convert this dataframe to an interactive table.\"\n",
              "            style=\"display:none;\">\n",
              "\n",
              "  <svg xmlns=\"http://www.w3.org/2000/svg\" height=\"24px\" viewBox=\"0 -960 960 960\">\n",
              "    <path d=\"M120-120v-720h720v720H120Zm60-500h600v-160H180v160Zm220 220h160v-160H400v160Zm0 220h160v-160H400v160ZM180-400h160v-160H180v160Zm440 0h160v-160H620v160ZM180-180h160v-160H180v160Zm440 0h160v-160H620v160Z\"/>\n",
              "  </svg>\n",
              "    </button>\n",
              "\n",
              "  <style>\n",
              "    .colab-df-container {\n",
              "      display:flex;\n",
              "      gap: 12px;\n",
              "    }\n",
              "\n",
              "    .colab-df-convert {\n",
              "      background-color: #E8F0FE;\n",
              "      border: none;\n",
              "      border-radius: 50%;\n",
              "      cursor: pointer;\n",
              "      display: none;\n",
              "      fill: #1967D2;\n",
              "      height: 32px;\n",
              "      padding: 0 0 0 0;\n",
              "      width: 32px;\n",
              "    }\n",
              "\n",
              "    .colab-df-convert:hover {\n",
              "      background-color: #E2EBFA;\n",
              "      box-shadow: 0px 1px 2px rgba(60, 64, 67, 0.3), 0px 1px 3px 1px rgba(60, 64, 67, 0.15);\n",
              "      fill: #174EA6;\n",
              "    }\n",
              "\n",
              "    .colab-df-buttons div {\n",
              "      margin-bottom: 4px;\n",
              "    }\n",
              "\n",
              "    [theme=dark] .colab-df-convert {\n",
              "      background-color: #3B4455;\n",
              "      fill: #D2E3FC;\n",
              "    }\n",
              "\n",
              "    [theme=dark] .colab-df-convert:hover {\n",
              "      background-color: #434B5C;\n",
              "      box-shadow: 0px 1px 3px 1px rgba(0, 0, 0, 0.15);\n",
              "      filter: drop-shadow(0px 1px 2px rgba(0, 0, 0, 0.3));\n",
              "      fill: #FFFFFF;\n",
              "    }\n",
              "  </style>\n",
              "\n",
              "    <script>\n",
              "      const buttonEl =\n",
              "        document.querySelector('#df-a4d0fd86-8d16-45dc-8839-dda9dd26f1fc button.colab-df-convert');\n",
              "      buttonEl.style.display =\n",
              "        google.colab.kernel.accessAllowed ? 'block' : 'none';\n",
              "\n",
              "      async function convertToInteractive(key) {\n",
              "        const element = document.querySelector('#df-a4d0fd86-8d16-45dc-8839-dda9dd26f1fc');\n",
              "        const dataTable =\n",
              "          await google.colab.kernel.invokeFunction('convertToInteractive',\n",
              "                                                    [key], {});\n",
              "        if (!dataTable) return;\n",
              "\n",
              "        const docLinkHtml = 'Like what you see? Visit the ' +\n",
              "          '<a target=\"_blank\" href=https://colab.research.google.com/notebooks/data_table.ipynb>data table notebook</a>'\n",
              "          + ' to learn more about interactive tables.';\n",
              "        element.innerHTML = '';\n",
              "        dataTable['output_type'] = 'display_data';\n",
              "        await google.colab.output.renderOutput(dataTable, element);\n",
              "        const docLink = document.createElement('div');\n",
              "        docLink.innerHTML = docLinkHtml;\n",
              "        element.appendChild(docLink);\n",
              "      }\n",
              "    </script>\n",
              "  </div>\n",
              "\n",
              "\n",
              "<div id=\"df-87fdadbe-9655-4732-9663-e6b50867f64b\">\n",
              "  <button class=\"colab-df-quickchart\" onclick=\"quickchart('df-87fdadbe-9655-4732-9663-e6b50867f64b')\"\n",
              "            title=\"Suggest charts\"\n",
              "            style=\"display:none;\">\n",
              "\n",
              "<svg xmlns=\"http://www.w3.org/2000/svg\" height=\"24px\"viewBox=\"0 0 24 24\"\n",
              "     width=\"24px\">\n",
              "    <g>\n",
              "        <path d=\"M19 3H5c-1.1 0-2 .9-2 2v14c0 1.1.9 2 2 2h14c1.1 0 2-.9 2-2V5c0-1.1-.9-2-2-2zM9 17H7v-7h2v7zm4 0h-2V7h2v10zm4 0h-2v-4h2v4z\"/>\n",
              "    </g>\n",
              "</svg>\n",
              "  </button>\n",
              "\n",
              "<style>\n",
              "  .colab-df-quickchart {\n",
              "      --bg-color: #E8F0FE;\n",
              "      --fill-color: #1967D2;\n",
              "      --hover-bg-color: #E2EBFA;\n",
              "      --hover-fill-color: #174EA6;\n",
              "      --disabled-fill-color: #AAA;\n",
              "      --disabled-bg-color: #DDD;\n",
              "  }\n",
              "\n",
              "  [theme=dark] .colab-df-quickchart {\n",
              "      --bg-color: #3B4455;\n",
              "      --fill-color: #D2E3FC;\n",
              "      --hover-bg-color: #434B5C;\n",
              "      --hover-fill-color: #FFFFFF;\n",
              "      --disabled-bg-color: #3B4455;\n",
              "      --disabled-fill-color: #666;\n",
              "  }\n",
              "\n",
              "  .colab-df-quickchart {\n",
              "    background-color: var(--bg-color);\n",
              "    border: none;\n",
              "    border-radius: 50%;\n",
              "    cursor: pointer;\n",
              "    display: none;\n",
              "    fill: var(--fill-color);\n",
              "    height: 32px;\n",
              "    padding: 0;\n",
              "    width: 32px;\n",
              "  }\n",
              "\n",
              "  .colab-df-quickchart:hover {\n",
              "    background-color: var(--hover-bg-color);\n",
              "    box-shadow: 0 1px 2px rgba(60, 64, 67, 0.3), 0 1px 3px 1px rgba(60, 64, 67, 0.15);\n",
              "    fill: var(--button-hover-fill-color);\n",
              "  }\n",
              "\n",
              "  .colab-df-quickchart-complete:disabled,\n",
              "  .colab-df-quickchart-complete:disabled:hover {\n",
              "    background-color: var(--disabled-bg-color);\n",
              "    fill: var(--disabled-fill-color);\n",
              "    box-shadow: none;\n",
              "  }\n",
              "\n",
              "  .colab-df-spinner {\n",
              "    border: 2px solid var(--fill-color);\n",
              "    border-color: transparent;\n",
              "    border-bottom-color: var(--fill-color);\n",
              "    animation:\n",
              "      spin 1s steps(1) infinite;\n",
              "  }\n",
              "\n",
              "  @keyframes spin {\n",
              "    0% {\n",
              "      border-color: transparent;\n",
              "      border-bottom-color: var(--fill-color);\n",
              "      border-left-color: var(--fill-color);\n",
              "    }\n",
              "    20% {\n",
              "      border-color: transparent;\n",
              "      border-left-color: var(--fill-color);\n",
              "      border-top-color: var(--fill-color);\n",
              "    }\n",
              "    30% {\n",
              "      border-color: transparent;\n",
              "      border-left-color: var(--fill-color);\n",
              "      border-top-color: var(--fill-color);\n",
              "      border-right-color: var(--fill-color);\n",
              "    }\n",
              "    40% {\n",
              "      border-color: transparent;\n",
              "      border-right-color: var(--fill-color);\n",
              "      border-top-color: var(--fill-color);\n",
              "    }\n",
              "    60% {\n",
              "      border-color: transparent;\n",
              "      border-right-color: var(--fill-color);\n",
              "    }\n",
              "    80% {\n",
              "      border-color: transparent;\n",
              "      border-right-color: var(--fill-color);\n",
              "      border-bottom-color: var(--fill-color);\n",
              "    }\n",
              "    90% {\n",
              "      border-color: transparent;\n",
              "      border-bottom-color: var(--fill-color);\n",
              "    }\n",
              "  }\n",
              "</style>\n",
              "\n",
              "  <script>\n",
              "    async function quickchart(key) {\n",
              "      const quickchartButtonEl =\n",
              "        document.querySelector('#' + key + ' button');\n",
              "      quickchartButtonEl.disabled = true;  // To prevent multiple clicks.\n",
              "      quickchartButtonEl.classList.add('colab-df-spinner');\n",
              "      try {\n",
              "        const charts = await google.colab.kernel.invokeFunction(\n",
              "            'suggestCharts', [key], {});\n",
              "      } catch (error) {\n",
              "        console.error('Error during call to suggestCharts:', error);\n",
              "      }\n",
              "      quickchartButtonEl.classList.remove('colab-df-spinner');\n",
              "      quickchartButtonEl.classList.add('colab-df-quickchart-complete');\n",
              "    }\n",
              "    (() => {\n",
              "      let quickchartButtonEl =\n",
              "        document.querySelector('#df-87fdadbe-9655-4732-9663-e6b50867f64b button');\n",
              "      quickchartButtonEl.style.display =\n",
              "        google.colab.kernel.accessAllowed ? 'block' : 'none';\n",
              "    })();\n",
              "  </script>\n",
              "</div>\n",
              "\n",
              "  <div id=\"id_1b253bdc-c376-4618-9030-7a63e4a9022b\">\n",
              "    <style>\n",
              "      .colab-df-generate {\n",
              "        background-color: #E8F0FE;\n",
              "        border: none;\n",
              "        border-radius: 50%;\n",
              "        cursor: pointer;\n",
              "        display: none;\n",
              "        fill: #1967D2;\n",
              "        height: 32px;\n",
              "        padding: 0 0 0 0;\n",
              "        width: 32px;\n",
              "      }\n",
              "\n",
              "      .colab-df-generate:hover {\n",
              "        background-color: #E2EBFA;\n",
              "        box-shadow: 0px 1px 2px rgba(60, 64, 67, 0.3), 0px 1px 3px 1px rgba(60, 64, 67, 0.15);\n",
              "        fill: #174EA6;\n",
              "      }\n",
              "\n",
              "      [theme=dark] .colab-df-generate {\n",
              "        background-color: #3B4455;\n",
              "        fill: #D2E3FC;\n",
              "      }\n",
              "\n",
              "      [theme=dark] .colab-df-generate:hover {\n",
              "        background-color: #434B5C;\n",
              "        box-shadow: 0px 1px 3px 1px rgba(0, 0, 0, 0.15);\n",
              "        filter: drop-shadow(0px 1px 2px rgba(0, 0, 0, 0.3));\n",
              "        fill: #FFFFFF;\n",
              "      }\n",
              "    </style>\n",
              "    <button class=\"colab-df-generate\" onclick=\"generateWithVariable('df')\"\n",
              "            title=\"Generate code using this dataframe.\"\n",
              "            style=\"display:none;\">\n",
              "\n",
              "  <svg xmlns=\"http://www.w3.org/2000/svg\" height=\"24px\"viewBox=\"0 0 24 24\"\n",
              "       width=\"24px\">\n",
              "    <path d=\"M7,19H8.4L18.45,9,17,7.55,7,17.6ZM5,21V16.75L18.45,3.32a2,2,0,0,1,2.83,0l1.4,1.43a1.91,1.91,0,0,1,.58,1.4,1.91,1.91,0,0,1-.58,1.4L9.25,21ZM18.45,9,17,7.55Zm-12,3A5.31,5.31,0,0,0,4.9,8.1,5.31,5.31,0,0,0,1,6.5,5.31,5.31,0,0,0,4.9,4.9,5.31,5.31,0,0,0,6.5,1,5.31,5.31,0,0,0,8.1,4.9,5.31,5.31,0,0,0,12,6.5,5.46,5.46,0,0,0,6.5,12Z\"/>\n",
              "  </svg>\n",
              "    </button>\n",
              "    <script>\n",
              "      (() => {\n",
              "      const buttonEl =\n",
              "        document.querySelector('#id_1b253bdc-c376-4618-9030-7a63e4a9022b button.colab-df-generate');\n",
              "      buttonEl.style.display =\n",
              "        google.colab.kernel.accessAllowed ? 'block' : 'none';\n",
              "\n",
              "      buttonEl.onclick = () => {\n",
              "        google.colab.notebook.generateWithVariable('df');\n",
              "      }\n",
              "      })();\n",
              "    </script>\n",
              "  </div>\n",
              "\n",
              "    </div>\n",
              "  </div>\n"
            ]
          },
          "metadata": {},
          "execution_count": 18
        }
      ]
    },
    {
      "cell_type": "code",
      "source": [
        "re = df.corr(method = 'kendall')\n",
        "print(re)"
      ],
      "metadata": {
        "colab": {
          "base_uri": "https://localhost:8080/"
        },
        "id": "z7AhWWFIP0sv",
        "outputId": "786c1b4f-c7f9-4c46-e148-dbe36bf70c43"
      },
      "execution_count": 19,
      "outputs": [
        {
          "output_type": "stream",
          "name": "stdout",
          "text": [
            "          교육받은 횟수       생산량\n",
            "교육받은 횟수  1.000000  0.408248\n",
            "생산량      0.408248  1.000000\n"
          ]
        }
      ]
    },
    {
      "cell_type": "markdown",
      "source": [
        "#파이썬을 이용한 CF 알고리즘 구현 실습"
      ],
      "metadata": {
        "id": "yc_KthjtQiTz"
      }
    },
    {
      "cell_type": "markdown",
      "source": [
        "##사용자 기반 아이템 추천"
      ],
      "metadata": {
        "id": "dnYbivx1QlWz"
      }
    },
    {
      "cell_type": "code",
      "source": [
        "critics = {\n",
        " 'Lisa Rose': {\n",
        " 'Lady in the Water': 2.5,\n",
        " 'Snakes on a Plane': 3.5,\n",
        " 'Just My Luck': 3.0,\n",
        " 'Superman Returns': 3.5,\n",
        " 'You, Me and Dupree': 2.5,\n",
        " 'The Night Listener': 3.0\n",
        " },\n",
        " 'Gene Seymour': {\n",
        " 'Lady in the Water': 3.0,\n",
        " 'Snakes on a Plane': 3.5,\n",
        " 'Just My Luck': 1.5,\n",
        " 'Superman Returns': 5.0,\n",
        " 'The Night Listener': 3.0,\n",
        " 'You, Me and Dupree': 3.5\n",
        " },\n",
        " 'Michael Phillips': {\n",
        " 'Lady in the Water': 2.5,\n",
        " 'Snakes on a Plane': 3.5,\n",
        " 'Superman Returns': 3.5,\n",
        " 'The Night Listener': 4.0\n",
        " }, 'Claudia Puig': {\n",
        " 'Snakes on a Plane': 3.5,\n",
        " 'Just My Luck': 3.0,\n",
        " 'The Night Listener': 4.5,\n",
        " 'Superman Returns': 4.0,\n",
        " 'You, Me and Dupree': 2.5\n",
        " },\n",
        " 'Mick LaSalle': {\n",
        " 'Lady in the Water': 3.0,\n",
        " 'Snakes on a Plane': 4.0,\n",
        " 'Just My Luck': 2.0,\n",
        " 'Superman Returns': 3.0,\n",
        " 'The Night Listener': 3.0,\n",
        " 'You, Me and Dupree': 2.0\n",
        " },\n",
        " 'Jack Mattheuws': {\n",
        " 'Lady in the Water': 3.0,\n",
        " 'Snakes on a Plane': 4.0,\n",
        " 'The Night Listener':\n",
        "3.0,\n",
        " 'Superman Returns': 5.0,\n",
        " 'You, Me and Dupree': 3.5\n",
        " },\n",
        " 'Toby': {\n",
        " 'Snakes on a Plane': 4.5,\n",
        " 'You, Me and Dupree':\n",
        "1.0,\n",
        " 'Superman Returns': 4.0\n",
        " }\n",
        "}"
      ],
      "metadata": {
        "id": "q-P-QwvwP0pc"
      },
      "execution_count": 20,
      "outputs": []
    },
    {
      "cell_type": "code",
      "source": [
        "critics['Lisa Rose']['Lady in the Water']\n",
        "\n"
      ],
      "metadata": {
        "colab": {
          "base_uri": "https://localhost:8080/"
        },
        "id": "NvFYyIrIP0mL",
        "outputId": "9796056c-d30b-4b51-92e4-3f5f3f6161f2"
      },
      "execution_count": 22,
      "outputs": [
        {
          "output_type": "execute_result",
          "data": {
            "text/plain": [
              "2.5"
            ]
          },
          "metadata": {},
          "execution_count": 22
        }
      ]
    },
    {
      "cell_type": "code",
      "source": [
        "critics['Toby']['Snakes on a Plane']\n"
      ],
      "metadata": {
        "colab": {
          "base_uri": "https://localhost:8080/"
        },
        "id": "J-iWK_vuQ6yf",
        "outputId": "0ca6d435-7ab9-466b-889f-22f713faada4"
      },
      "execution_count": 23,
      "outputs": [
        {
          "output_type": "execute_result",
          "data": {
            "text/plain": [
              "4.5"
            ]
          },
          "metadata": {},
          "execution_count": 23
        }
      ]
    },
    {
      "cell_type": "code",
      "source": [
        "critics['Toby']"
      ],
      "metadata": {
        "colab": {
          "base_uri": "https://localhost:8080/"
        },
        "id": "0Aff9TsTQ88q",
        "outputId": "abe65bcd-a573-466c-8d11-f95e07d983aa"
      },
      "execution_count": 24,
      "outputs": [
        {
          "output_type": "execute_result",
          "data": {
            "text/plain": [
              "{'Snakes on a Plane': 4.5, 'You, Me and Dupree': 1.0, 'Superman Returns': 4.0}"
            ]
          },
          "metadata": {},
          "execution_count": 24
        }
      ]
    },
    {
      "cell_type": "markdown",
      "source": [
        "##유클리디안 거리 계산하기"
      ],
      "metadata": {
        "id": "aqrnuzXLQ111"
      }
    },
    {
      "cell_type": "code",
      "source": [
        "from math import sqrt\n",
        "\n",
        "# Returns a distance-based similarity score for person1 and person2\n",
        "def sim_distance(prefs, person1, person2):\n",
        "    # Get the list of shared_items\n",
        "    si={}\n",
        "    for item in prefs[person1]:\n",
        "        if item in prefs[person2]: si[item]=1\n",
        "\n",
        "    # if they have no ratings in common, return 0\n",
        "    if len(si)==0: return 0\n",
        "\n",
        "    # Add up the squares of all the differences\n",
        "    sum_of_squares=sum([pow(prefs[person1][item]-prefs[person2][item], 2)\n",
        "                        for item in prefs[person1] if item in prefs[person2]])\n",
        "\n",
        "    return 1/(1+sqrt(sum_of_squares))\n"
      ],
      "metadata": {
        "id": "CKnjll3uP0i5"
      },
      "execution_count": 25,
      "outputs": []
    },
    {
      "cell_type": "code",
      "source": [
        "#이용자 간 유사도 확인\n",
        "sim_distance(critics, 'Lisa Rose', 'Gene Seymour')\n"
      ],
      "metadata": {
        "colab": {
          "base_uri": "https://localhost:8080/"
        },
        "id": "v64J8PwaP0fn",
        "outputId": "d84ac042-1bf2-40de-9949-af91defd624d"
      },
      "execution_count": 26,
      "outputs": [
        {
          "output_type": "execute_result",
          "data": {
            "text/plain": [
              "0.29429805508554946"
            ]
          },
          "metadata": {},
          "execution_count": 26
        }
      ]
    },
    {
      "cell_type": "code",
      "source": [
        "for item in critics:\n",
        "    print(\"Toby and\", item, sim_distance(critics, 'Toby', item))\n"
      ],
      "metadata": {
        "colab": {
          "base_uri": "https://localhost:8080/"
        },
        "id": "wx9ahkjbRZC4",
        "outputId": "426d10b3-215c-43dd-bffd-350406db72f5"
      },
      "execution_count": 27,
      "outputs": [
        {
          "output_type": "stream",
          "name": "stdout",
          "text": [
            "Toby and Lisa Rose 0.3483314773547883\n",
            "Toby and Gene Seymour 0.25824569976124334\n",
            "Toby and Michael Phillips 0.4721359549995794\n",
            "Toby and Claudia Puig 0.3567891723253309\n",
            "Toby and Mick LaSalle 0.4\n",
            "Toby and Jack Mattheuws 0.2674788903885893\n",
            "Toby and Toby 1.0\n"
          ]
        }
      ]
    },
    {
      "cell_type": "markdown",
      "source": [
        "###피어슨 상관계수(Pearson correlation coefficient)\n"
      ],
      "metadata": {
        "id": "uqelRu8iRWCg"
      }
    },
    {
      "cell_type": "code",
      "source": [
        "# Returns the Pearson correlation coefficient for p1 and p2\n",
        "def sim_pearson(prefs, p1, p2):\n",
        "    # 공통 항목들의 목록을 구함\n",
        "    si = {}\n",
        "    for item in prefs[p1]:\n",
        "        if item in prefs[p2]: si[item] = 1\n",
        "\n",
        "    # 공통 평가 항목이 없으면 0 리턴\n",
        "    if len(si) == 0: return 0\n",
        "\n",
        "    # 공통 평가 항목 개수\n",
        "    n = len(si)\n",
        "\n",
        "    # 모든 선호도를 합산\n",
        "    sum1 = sum(prefs[p1][it] for it in si)\n",
        "    sum2 = sum(prefs[p2][it] for it in si)\n",
        "\n",
        "    # 제곱의 합을 계산\n",
        "    sum1Sq = sum([prefs[p1][it]**2 for it in si])\n",
        "    sum2Sq = sum([prefs[p2][it]**2 for it in si])\n",
        "\n",
        "    # 곱의 합을 계산\n",
        "    pSum = sum([prefs[p1][it] * prefs[p2][it] for it in si])\n",
        "\n",
        "    # 평균을 뺀 점수 계산\n",
        "    num = pSum - (sum1 * sum2 / n)\n",
        "    den = sqrt((sum1Sq - pow(sum1, 2) / n) * (sum2Sq - pow(sum2, 2) / n))\n",
        "    if den == 0: return 0\n",
        "\n",
        "    r = num / den\n",
        "\n",
        "    return r\n"
      ],
      "metadata": {
        "id": "1Gzyn-9uRPmJ"
      },
      "execution_count": 31,
      "outputs": []
    },
    {
      "cell_type": "code",
      "source": [
        "for item in critics:\n",
        "    print(\"Lisa Rose and\", item, sim_pearson(critics, \"Lisa Rose\", item))\n"
      ],
      "metadata": {
        "colab": {
          "base_uri": "https://localhost:8080/"
        },
        "id": "pS6NzrZESFlY",
        "outputId": "38f7e441-c81a-4a90-9116-30f519b59ffe"
      },
      "execution_count": 32,
      "outputs": [
        {
          "output_type": "stream",
          "name": "stdout",
          "text": [
            "Lisa Rose and Lisa Rose 1.0\n",
            "Lisa Rose and Gene Seymour 0.39605901719066977\n",
            "Lisa Rose and Michael Phillips 0.6225430174794672\n",
            "Lisa Rose and Claudia Puig 0.5669467095138396\n",
            "Lisa Rose and Mick LaSalle 0.5940885257860044\n",
            "Lisa Rose and Jack Mattheuws 0.7470178808339965\n",
            "Lisa Rose and Toby 0.9912407071619299\n"
          ]
        }
      ]
    },
    {
      "cell_type": "markdown",
      "source": [
        "###유사한 이용자 찾기"
      ],
      "metadata": {
        "id": "9pfYSb9QRz3r"
      }
    },
    {
      "cell_type": "code",
      "source": [
        "# 선호도 dict에서 최고의 상대방을 구함\n",
        "# 최고 매치와 유사도를 반환하는 함수\n",
        "\n",
        "def topMatches(prefs, person, n=5, similarity=sim_pearson):\n",
        "    scores = [(similarity(prefs, person, other), other)\n",
        "              for other in prefs if other != person]\n",
        "\n",
        "    scores.sort()\n",
        "    scores.reverse()\n",
        "    return scores[0:n]\n"
      ],
      "metadata": {
        "id": "nWdkwlXrRPiw"
      },
      "execution_count": 33,
      "outputs": []
    },
    {
      "cell_type": "code",
      "source": [
        "for score, other in topMatches(critics, \"Toby\"):\n",
        "    print(\"Toby and\", other, score)\n"
      ],
      "metadata": {
        "colab": {
          "base_uri": "https://localhost:8080/"
        },
        "id": "6O4GyPvNRPfr",
        "outputId": "82b80042-ccaa-4ea8-c2af-a7fde370cbad"
      },
      "execution_count": 34,
      "outputs": [
        {
          "output_type": "stream",
          "name": "stdout",
          "text": [
            "Toby and Lisa Rose 0.9912407071619299\n",
            "Toby and Mick LaSalle 0.9244734516419049\n",
            "Toby and Claudia Puig 0.8934051474415647\n",
            "Toby and Jack Mattheuws 0.66284898035987\n",
            "Toby and Gene Seymour 0.38124642583151164\n"
          ]
        }
      ]
    },
    {
      "cell_type": "markdown",
      "source": [
        "###유사한 이용자의 아이템 선호도 기반 아이템 선호도 예측하기\n"
      ],
      "metadata": {
        "id": "YyAd07TPSTcQ"
      }
    },
    {
      "cell_type": "code",
      "source": [
        "# 다른 사람들의 평가를 기준으로 하는 추천을 생성\n",
        "def getRecommendations(prefs, person, similarity=sim_pearson):\n",
        "    totals={}\n",
        "    simSums={}\n",
        "    for other in prefs:\n",
        "        # don't compare me to myself\n",
        "        if other == person: continue\n",
        "        sim = similarity(prefs, person, other)\n",
        "\n",
        "        # ignore scores of zero or lower\n",
        "        if sim <= 0: continue\n",
        "\n",
        "        for item in prefs[other]:\n",
        "            # only score movies I haven't seen yet\n",
        "            if item not in prefs[person] or prefs[person][item] == 0:\n",
        "                # Similarity * Score\n",
        "                totals.setdefault(item, 0)\n",
        "                totals[item] += prefs[other][item] * sim\n",
        "                # Sum of similarities\n",
        "                simSums.setdefault(item, 0)\n",
        "                simSums[item] += sim\n",
        "\n",
        "    # Create the normalized list\n",
        "    rankings = [(total / simSums[item], item) for item, total in totals.items()]\n",
        "\n",
        "    # Return the sorted list\n",
        "    rankings.sort()\n",
        "    rankings.reverse()\n",
        "    return rankings\n"
      ],
      "metadata": {
        "id": "EzSG5fedRPcp"
      },
      "execution_count": 35,
      "outputs": []
    },
    {
      "cell_type": "code",
      "source": [
        "for score, item in getRecommendations(critics, \"Toby\"):\n",
        "    print(item, round(score, 2))\n"
      ],
      "metadata": {
        "colab": {
          "base_uri": "https://localhost:8080/"
        },
        "id": "5kWYn1lkRPZX",
        "outputId": "308a1c23-50ef-4199-b0ef-0939c34775da"
      },
      "execution_count": 36,
      "outputs": [
        {
          "output_type": "stream",
          "name": "stdout",
          "text": [
            "The Night Listener 3.35\n",
            "Lady in the Water 2.83\n",
            "Just My Luck 2.53\n"
          ]
        }
      ]
    },
    {
      "cell_type": "code",
      "source": [
        "for score, item in getRecommendations(critics, \"Toby\", similarity=sim_distance):\n",
        "    print(item, round(score, 2))\n"
      ],
      "metadata": {
        "colab": {
          "base_uri": "https://localhost:8080/"
        },
        "id": "Ks_QNENbS1zm",
        "outputId": "42b0d474-7a24-47a1-9b8d-2a1016acc903"
      },
      "execution_count": 37,
      "outputs": [
        {
          "output_type": "stream",
          "name": "stdout",
          "text": [
            "The Night Listener 3.48\n",
            "Lady in the Water 2.77\n",
            "Just My Luck 2.42\n"
          ]
        }
      ]
    },
    {
      "cell_type": "markdown",
      "source": [
        "###아이템 기반 추천"
      ],
      "metadata": {
        "id": "hefawavlSo-_"
      }
    },
    {
      "cell_type": "markdown",
      "source": [
        "### 데이터셋\n",
        "\n",
        " 첫 번째는 사용자별로 영화 평점을 나열한 것   \n",
        " 두 번째는 영화별로 사용자 평점을 나열한 것입니다."
      ],
      "metadata": {
        "id": "PKg_qjjXTGTH"
      }
    },
    {
      "cell_type": "code",
      "source": [
        "{\n",
        "    \"Lisa Rose\": {\n",
        "        \"Lady in the Water\": 2.5,\n",
        "        \"Snakes on a Plane\": 3.5\n",
        "    },\n",
        "    \"Gene Seymour\": {\n",
        "        \"Lady in the Water\": 3.0,\n",
        "        \"Snakes on a Plane\": 3.5\n",
        "    }\n",
        "}\n",
        "{\n",
        "    \"Lady in the Water\": {\n",
        "        \"Lisa Rose\": 2.5,\n",
        "        \"Gene Seymour\": 3.0\n",
        "    },\n",
        "    \"Snakes on a Plane\": {\n",
        "        \"Lisa Rose\": 3.5,\n",
        "        \"Gene Seymour\": 3.5\n",
        "    }\n",
        "}\n"
      ],
      "metadata": {
        "colab": {
          "base_uri": "https://localhost:8080/"
        },
        "id": "Brzs4EnySra-",
        "outputId": "f3ab184e-3a67-4009-f131-08ba8e820fa4"
      },
      "execution_count": 38,
      "outputs": [
        {
          "output_type": "execute_result",
          "data": {
            "text/plain": [
              "{'Lady in the Water': {'Lisa Rose': 2.5, 'Gene Seymour': 3.0},\n",
              " 'Snakes on a Plane': {'Lisa Rose': 3.5, 'Gene Seymour': 3.5}}"
            ]
          },
          "metadata": {},
          "execution_count": 38
        }
      ]
    },
    {
      "cell_type": "code",
      "source": [
        "def transformPrefs(prefs):\n",
        "    result = {}\n",
        "    for person in prefs:\n",
        "        for item in prefs[person]:\n",
        "            result.setdefault(item, {})\n",
        "            # Flip item and person\n",
        "            result[item][person] = prefs[person][item]\n",
        "    return result\n"
      ],
      "metadata": {
        "id": "WVamStH8TPCU"
      },
      "execution_count": 39,
      "outputs": []
    },
    {
      "cell_type": "markdown",
      "source": [
        "###아이템 간 유사도 계산"
      ],
      "metadata": {
        "id": "EHHrBRqLSo7P"
      }
    },
    {
      "cell_type": "code",
      "source": [
        "transformed = transformPrefs(critics)\n",
        "for score, item in topMatches(transformed, \"Superman Returns\"):\n",
        "    print(item, round(score, 2))\n"
      ],
      "metadata": {
        "colab": {
          "base_uri": "https://localhost:8080/"
        },
        "id": "sKmifJlsTXfZ",
        "outputId": "0efde23d-c7d4-4d0f-f080-e343032ce121"
      },
      "execution_count": 40,
      "outputs": [
        {
          "output_type": "stream",
          "name": "stdout",
          "text": [
            "You, Me and Dupree 0.66\n",
            "Lady in the Water 0.49\n",
            "Snakes on a Plane 0.0\n",
            "The Night Listener -0.18\n",
            "Just My Luck -0.42\n"
          ]
        }
      ]
    },
    {
      "cell_type": "code",
      "source": [
        "def calculateSimilarItems(prefs, n=10):\n",
        "    # Create a dictionary of items showing which other items they\n",
        "    # are most similar to.\n",
        "    result = {}\n",
        "\n",
        "    # Invert the preference matrix to be item-centric\n",
        "    itemPrefs = transformPrefs(prefs)\n",
        "\n",
        "    c = 0\n",
        "    for item in itemPrefs:\n",
        "        # Status updates for large datasets\n",
        "        c += 1\n",
        "        if c % 100 == 0: print(\"%d / %d\" % (c, len(itemPrefs)))\n",
        "\n",
        "        # Find the most similar items to this one\n",
        "        scores = topMatches(itemPrefs, item, n=n, similarity=sim_distance)\n",
        "        result[item] = scores\n",
        "    return result\n"
      ],
      "metadata": {
        "id": "a4ghFiDVTYRj"
      },
      "execution_count": 41,
      "outputs": []
    },
    {
      "cell_type": "code",
      "source": [
        "itemsim = calculateSimilarItems(critics)\n",
        "print(itemsim)\n"
      ],
      "metadata": {
        "colab": {
          "base_uri": "https://localhost:8080/"
        },
        "id": "f_Pk1ATATYOg",
        "outputId": "e0eeed6a-0bc3-439b-f047-a14b48a7922f"
      },
      "execution_count": 42,
      "outputs": [
        {
          "output_type": "stream",
          "name": "stdout",
          "text": [
            "{'Lady in the Water': [(0.4494897427831781, 'You, Me and Dupree'), (0.38742588672279304, 'The Night Listener'), (0.3483314773547883, 'Just My Luck'), (0.3266316347104093, 'Snakes on a Plane'), (0.2402530733520421, 'Superman Returns')], 'Snakes on a Plane': [(0.3405424265831667, 'The Night Listener'), (0.3266316347104093, 'Lady in the Water'), (0.31451985913875646, 'Superman Returns'), (0.2553967929896867, 'Just My Luck'), (0.1886378647726465, 'You, Me and Dupree')], 'Just My Luck': [(0.3483314773547883, 'Lady in the Water'), (0.32037724101704074, 'You, Me and Dupree'), (0.2989350844248255, 'The Night Listener'), (0.2553967929896867, 'Snakes on a Plane'), (0.20799159651347807, 'Superman Returns')], 'Superman Returns': [(0.31451985913875646, 'Snakes on a Plane'), (0.252650308587072, 'The Night Listener'), (0.2402530733520421, 'Lady in the Water'), (0.20799159651347807, 'Just My Luck'), (0.1918253663634734, 'You, Me and Dupree')], 'You, Me and Dupree': [(0.4494897427831781, 'Lady in the Water'), (0.32037724101704074, 'Just My Luck'), (0.29429805508554946, 'The Night Listener'), (0.1918253663634734, 'Superman Returns'), (0.1886378647726465, 'Snakes on a Plane')], 'The Night Listener': [(0.38742588672279304, 'Lady in the Water'), (0.3405424265831667, 'Snakes on a Plane'), (0.2989350844248255, 'Just My Luck'), (0.29429805508554946, 'You, Me and Dupree'), (0.252650308587072, 'Superman Returns')]}\n"
          ]
        }
      ]
    },
    {
      "cell_type": "markdown",
      "source": [
        "###아이템 유사도 기반 아이템 추천"
      ],
      "metadata": {
        "id": "BjUC7PGVTns3"
      }
    },
    {
      "cell_type": "code",
      "source": [
        "def getRecommendedItems(prefs, itemMatch, user):\n",
        "    userRatings = prefs[user]\n",
        "    scores = {}\n",
        "    totalSim = {}\n",
        "\n",
        "    # Loop over items rated by this user\n",
        "    for (item, rating) in userRatings.items():\n",
        "\n",
        "        # Loop over items similar to this one\n",
        "        for (similarity, item2) in itemMatch[item]:\n",
        "\n",
        "            # Ignore if this user has already rated this item\n",
        "            if item2 in userRatings: continue\n",
        "\n",
        "            # Weighted sum of rating times similarity\n",
        "            scores.setdefault(item2, 0)\n",
        "            scores[item2] += similarity * rating\n",
        "\n",
        "            # Sum of all the similarities\n",
        "            totalSim.setdefault(item2, 0)\n",
        "            totalSim[item2] += similarity\n",
        "\n",
        "    # Divide each total score by total weighting to get an average\n",
        "    rankings = [(score / totalSim[item], item) for item, score in scores.items()]\n",
        "\n",
        "    # Return the rankings from highest to lowest\n",
        "    rankings.sort()\n",
        "    rankings.reverse()\n",
        "    return rankings\n"
      ],
      "metadata": {
        "id": "RFqgBc9ATYLW"
      },
      "execution_count": 43,
      "outputs": []
    },
    {
      "cell_type": "code",
      "source": [
        "getRecommendedItems(critics, itemsim, 'Toby')\n"
      ],
      "metadata": {
        "colab": {
          "base_uri": "https://localhost:8080/"
        },
        "id": "5TcjNitITYH8",
        "outputId": "9425f6e3-3fc3-40c3-c004-49937101890f"
      },
      "execution_count": 44,
      "outputs": [
        {
          "output_type": "execute_result",
          "data": {
            "text/plain": [
              "[(3.1970362286692846, 'The Night Listener'),\n",
              " (2.9366294028444346, 'Just My Luck'),\n",
              " (2.8339401782401414, 'Lady in the Water')]"
            ]
          },
          "metadata": {},
          "execution_count": 44
        }
      ]
    },
    {
      "cell_type": "code",
      "source": [],
      "metadata": {
        "id": "_EWmP0x1TYEb"
      },
      "execution_count": null,
      "outputs": []
    }
  ]
}