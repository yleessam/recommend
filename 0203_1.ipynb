{
  "nbformat": 4,
  "nbformat_minor": 0,
  "metadata": {
    "colab": {
      "provenance": [],
      "include_colab_link": true
    },
    "kernelspec": {
      "name": "python3",
      "display_name": "Python 3"
    },
    "language_info": {
      "name": "python"
    }
  },
  "cells": [
    {
      "cell_type": "markdown",
      "metadata": {
        "id": "view-in-github",
        "colab_type": "text"
      },
      "source": [
        "<a href=\"https://colab.research.google.com/github/yleessam/recommend/blob/main/0203_1.ipynb\" target=\"_parent\"><img src=\"https://colab.research.google.com/assets/colab-badge.svg\" alt=\"Open In Colab\"/></a>"
      ]
    },
    {
      "cell_type": "code",
      "execution_count": null,
      "metadata": {
        "id": "7-lm6G98U8kb"
      },
      "outputs": [],
      "source": [
        "import numpy as np"
      ]
    },
    {
      "cell_type": "code",
      "source": [
        "v = np.array([1,2,3])\n",
        "w = np.array([6,-1,3])\n",
        "\n",
        "print(v)\n",
        "print(w)"
      ],
      "metadata": {
        "colab": {
          "base_uri": "https://localhost:8080/"
        },
        "id": "KqE8h-75sdQ1",
        "outputId": "ebffe43b-cb3a-4555-b2af-6fe298c028d3"
      },
      "execution_count": null,
      "outputs": [
        {
          "output_type": "stream",
          "name": "stdout",
          "text": [
            "[1 2 3]\n",
            "[ 6 -1  3]\n"
          ]
        }
      ]
    },
    {
      "cell_type": "code",
      "source": [
        "v = np.array([1,2,3])\n",
        "\n",
        "print(v, v.shape)"
      ],
      "metadata": {
        "colab": {
          "base_uri": "https://localhost:8080/"
        },
        "id": "C2eEeT0nsrKR",
        "outputId": "568f8f58-2a92-4511-ea03-28d7d401d765"
      },
      "execution_count": null,
      "outputs": [
        {
          "output_type": "stream",
          "name": "stdout",
          "text": [
            "[1 2 3] (3,)\n"
          ]
        }
      ]
    },
    {
      "cell_type": "code",
      "source": [
        "w = np.array([[1,2,3]])\n",
        "\n",
        "print(w, w.shape)"
      ],
      "metadata": {
        "colab": {
          "base_uri": "https://localhost:8080/"
        },
        "id": "LqPj78PWsxVg",
        "outputId": "310f899a-dd2a-42c1-c322-2075a5d90fe2"
      },
      "execution_count": null,
      "outputs": [
        {
          "output_type": "stream",
          "name": "stdout",
          "text": [
            "[[1 2 3]] (1, 3)\n"
          ]
        }
      ]
    },
    {
      "cell_type": "code",
      "source": [
        "u = np.array([[1], [2], [3]])\n",
        "\n",
        "print(u, u.shape)"
      ],
      "metadata": {
        "colab": {
          "base_uri": "https://localhost:8080/"
        },
        "id": "QD6sp2lKs-iy",
        "outputId": "261cf10d-6e41-40cd-8e2c-9670bbee392b"
      },
      "execution_count": null,
      "outputs": [
        {
          "output_type": "stream",
          "name": "stdout",
          "text": [
            "[[1]\n",
            " [2]\n",
            " [3]] (3, 1)\n"
          ]
        }
      ]
    },
    {
      "cell_type": "code",
      "source": [
        "v = np.array([1,3,5])\n",
        "w = np.array([2,4,6])\n",
        "\n",
        "print('v + w =',  v + w) # 덧셈\n",
        "\n",
        "print('v - w =', v - w) # 뺄셈"
      ],
      "metadata": {
        "colab": {
          "base_uri": "https://localhost:8080/"
        },
        "id": "gV1onRWTu9iQ",
        "outputId": "8b296b2f-2389-4e2d-bf00-dc047ed444fb"
      },
      "execution_count": null,
      "outputs": [
        {
          "output_type": "stream",
          "name": "stdout",
          "text": [
            "v + w = [ 3  7 11]\n",
            "v - w = [-1 -1 -1]\n"
          ]
        }
      ]
    },
    {
      "cell_type": "code",
      "source": [
        "v = np.array([1,3,5])\n",
        "w = np.array([2,4,6])\n",
        "\n",
        "print(4* v) # 곱셈 : 스칼라곱\n",
        "\n",
        "print(v * w, np.multiply(v,w)) # 곱셈 : 성분곱\n",
        "\n",
        "print(np.inner(v, w), v.dot(w)) # 내적"
      ],
      "metadata": {
        "colab": {
          "base_uri": "https://localhost:8080/"
        },
        "id": "-v2kofECvYgi",
        "outputId": "f779e6ff-1344-40c1-fc7b-03f49d153dd9"
      },
      "execution_count": null,
      "outputs": [
        {
          "output_type": "stream",
          "name": "stdout",
          "text": [
            "[ 4 12 20]\n",
            "[ 2 12 30] [ 2 12 30]\n",
            "44 44\n"
          ]
        }
      ]
    },
    {
      "cell_type": "code",
      "source": [
        "mat = np.array([[1,2,3], [4,5,6], [7,8,9], [10,11,12]])\n",
        "\n",
        "print(mat)\n",
        "print(mat.shape) # ( 4x3 ) 행렬"
      ],
      "metadata": {
        "colab": {
          "base_uri": "https://localhost:8080/"
        },
        "id": "udLz3Vf5vygw",
        "outputId": "79bb4ecb-3d1d-452c-e9fd-a5078afaab22"
      },
      "execution_count": null,
      "outputs": [
        {
          "output_type": "stream",
          "name": "stdout",
          "text": [
            "[[ 1  2  3]\n",
            " [ 4  5  6]\n",
            " [ 7  8  9]\n",
            " [10 11 12]]\n",
            "(4, 3)\n"
          ]
        }
      ]
    },
    {
      "cell_type": "code",
      "source": [
        "# 행렬 연산 1\n",
        "X = np.array([[3, 4, 2], [1, 3, 7]])\n",
        "Y = np.array([[1, 0, 1], [2, 1, 1]])\n",
        "\n",
        "\n",
        "print('X + Y =\\n', X + Y, '\\n') # 덧셈\n",
        "\n",
        "\n",
        "print('X - Y =\\n', X - Y) # 뺄셈"
      ],
      "metadata": {
        "colab": {
          "base_uri": "https://localhost:8080/"
        },
        "id": "nLw4gG9lwanh",
        "outputId": "d96b1f81-d347-4d42-81ec-fd1e5b45730b"
      },
      "execution_count": null,
      "outputs": [
        {
          "output_type": "stream",
          "name": "stdout",
          "text": [
            "X + Y =\n",
            " [[4 4 3]\n",
            " [3 4 8]] \n",
            "\n",
            "X - Y =\n",
            " [[ 2  4  1]\n",
            " [-1  2  6]]\n"
          ]
        }
      ]
    },
    {
      "cell_type": "code",
      "source": [
        "# 행렬 연산 2\n",
        "\n",
        "X = np.array([[3, 4, 2], [1, 3, 7]])\n",
        "Y = np.array([[1, 0, 1], [2, 1, 1]])\n",
        "\n",
        "\n",
        "print(3 * X) # 곱셈 : 스칼라곱\n",
        "\n",
        "\n",
        "print(np.multiply(X, Y)) # 곱셈 : 성분곱"
      ],
      "metadata": {
        "colab": {
          "base_uri": "https://localhost:8080/"
        },
        "id": "SBOuLOt7wxWE",
        "outputId": "4e33e2a4-8779-488b-acb0-2c8157dc7775"
      },
      "execution_count": null,
      "outputs": [
        {
          "output_type": "stream",
          "name": "stdout",
          "text": [
            "[[ 9 12  6]\n",
            " [ 3  9 21]]\n",
            "[[3 0 2]\n",
            " [2 3 7]]\n"
          ]
        }
      ]
    },
    {
      "cell_type": "code",
      "source": [
        "# 행렬 연산 3\n",
        "\n",
        "X = np.array([[1, 0, 3], [2, 1, 4]])\n",
        "Y = np.array([[2, 3], [1, 2], [0, 1] ])\n",
        "\n",
        "\n",
        "print(X.dot(Y)) # 행렬곱 (2x3)x(3x2)=(2x2)"
      ],
      "metadata": {
        "colab": {
          "base_uri": "https://localhost:8080/"
        },
        "outputId": "0cfbf9e2-4be6-40f5-f0b7-005c276394f8",
        "id": "ZdM2X-9AxZP6"
      },
      "execution_count": null,
      "outputs": [
        {
          "output_type": "stream",
          "name": "stdout",
          "text": [
            "[[ 2  6]\n",
            " [ 5 12]]\n"
          ]
        }
      ]
    },
    {
      "cell_type": "code",
      "source": [
        "# 전치 (Transpose)\n",
        "\n",
        "x = np.array([[3], [4], [5]])\n",
        "X = np.array([\n",
        "    [1,0,3],\n",
        "    [2,1,4]\n",
        "])\n",
        "\n",
        "print(x.T)\n",
        "print(X.T)"
      ],
      "metadata": {
        "colab": {
          "base_uri": "https://localhost:8080/"
        },
        "id": "TXFamV26yCbz",
        "outputId": "2d8bf26a-9a8f-4db4-a82f-06ea5914e2a3"
      },
      "execution_count": null,
      "outputs": [
        {
          "output_type": "stream",
          "name": "stdout",
          "text": [
            "[[3 4 5]]\n",
            "[[1 2]\n",
            " [0 1]\n",
            " [3 4]]\n"
          ]
        }
      ]
    },
    {
      "cell_type": "code",
      "source": [
        "# 단위 행렬(Identity Matrix)\n",
        "\n",
        "I = np.identity(6)\n",
        "\n",
        "print(I)"
      ],
      "metadata": {
        "colab": {
          "base_uri": "https://localhost:8080/"
        },
        "id": "5JZ-AMkvydIz",
        "outputId": "71b2dee7-2afd-4469-c211-daaefe65f598"
      },
      "execution_count": null,
      "outputs": [
        {
          "output_type": "stream",
          "name": "stdout",
          "text": [
            "[[1. 0. 0. 0. 0. 0.]\n",
            " [0. 1. 0. 0. 0. 0.]\n",
            " [0. 0. 1. 0. 0. 0.]\n",
            " [0. 0. 0. 1. 0. 0.]\n",
            " [0. 0. 0. 0. 1. 0.]\n",
            " [0. 0. 0. 0. 0. 1.]]\n"
          ]
        }
      ]
    },
    {
      "cell_type": "code",
      "source": [
        "# 역행렬( Inverse Matrix)\n",
        "\n",
        "X = np.array([\n",
        "    [3,4],\n",
        "    [5,6]\n",
        "])\n",
        "\n",
        "Xi = np.linalg.inv(X)\n",
        "print(Xi)\n",
        "\n",
        "print(X.dot(Xi))"
      ],
      "metadata": {
        "colab": {
          "base_uri": "https://localhost:8080/"
        },
        "id": "uELZjJ_hyoT4",
        "outputId": "c6c9eaab-9ce0-4312-8706-bf0b225cbe5f"
      },
      "execution_count": null,
      "outputs": [
        {
          "output_type": "stream",
          "name": "stdout",
          "text": [
            "[[-3.   2. ]\n",
            " [ 2.5 -1.5]]\n",
            "[[ 1.0000000e+00 -8.8817842e-16]\n",
            " [ 0.0000000e+00  1.0000000e+00]]\n"
          ]
        }
      ]
    }
  ]
}